{
 "cells": [
  {
   "cell_type": "code",
   "execution_count": 1,
   "id": "a53ccb7b",
   "metadata": {},
   "outputs": [],
   "source": [
    "import pandas as pd\n",
    "import numpy as np\n",
    "import seaborn as sns\n",
    "import matplotlib.pyplot as plt\n",
    "\n",
    "from sklearn.model_selection import train_test_split\n",
    "from sklearn.linear_model import LinearRegression\n",
    "from sklearn.preprocessing import StandardScaler"
   ]
  },
  {
   "cell_type": "code",
   "execution_count": 38,
   "id": "53942bbe",
   "metadata": {},
   "outputs": [],
   "source": [
    "df = pd.read_csv('Train_data.csv')\n",
    "test = pd.read_csv('Test_data.csv')"
   ]
  },
  {
   "cell_type": "code",
   "execution_count": 3,
   "id": "a7c117a7",
   "metadata": {},
   "outputs": [
    {
     "data": {
      "text/html": [
       "<div>\n",
       "<style scoped>\n",
       "    .dataframe tbody tr th:only-of-type {\n",
       "        vertical-align: middle;\n",
       "    }\n",
       "\n",
       "    .dataframe tbody tr th {\n",
       "        vertical-align: top;\n",
       "    }\n",
       "\n",
       "    .dataframe thead th {\n",
       "        text-align: right;\n",
       "    }\n",
       "</style>\n",
       "<table border=\"1\" class=\"dataframe\">\n",
       "  <thead>\n",
       "    <tr style=\"text-align: right;\">\n",
       "      <th></th>\n",
       "      <th>Id</th>\n",
       "      <th>LotFrontage</th>\n",
       "      <th>LotArea</th>\n",
       "      <th>YearBuilt</th>\n",
       "      <th>CentralAir</th>\n",
       "      <th>GrLivArea</th>\n",
       "      <th>BedroomAbvGr</th>\n",
       "      <th>KitchenAbvGr</th>\n",
       "      <th>Fireplaces</th>\n",
       "      <th>GarageArea</th>\n",
       "      <th>OpenPorchSF</th>\n",
       "      <th>SalePrice</th>\n",
       "      <th>Condition</th>\n",
       "      <th>Mean_rank</th>\n",
       "      <th>YearRemod</th>\n",
       "      <th>Exterior</th>\n",
       "      <th>TotalSF</th>\n",
       "      <th>TotalBath</th>\n",
       "      <th>WoodYN</th>\n",
       "      <th>Age</th>\n",
       "    </tr>\n",
       "  </thead>\n",
       "  <tbody>\n",
       "    <tr>\n",
       "      <th>count</th>\n",
       "      <td>1460.00</td>\n",
       "      <td>1460.000</td>\n",
       "      <td>1460.000</td>\n",
       "      <td>1460.000</td>\n",
       "      <td>1460.000</td>\n",
       "      <td>1460.000</td>\n",
       "      <td>1460.000</td>\n",
       "      <td>1460.000</td>\n",
       "      <td>1460.000</td>\n",
       "      <td>1460.000</td>\n",
       "      <td>1460.000</td>\n",
       "      <td>1460.000</td>\n",
       "      <td>1460.000</td>\n",
       "      <td>1460.000</td>\n",
       "      <td>1460.000</td>\n",
       "      <td>1460.000</td>\n",
       "      <td>1460.000</td>\n",
       "      <td>1460.000</td>\n",
       "      <td>1460.000</td>\n",
       "      <td>1460.000</td>\n",
       "    </tr>\n",
       "    <tr>\n",
       "      <th>mean</th>\n",
       "      <td>730.50</td>\n",
       "      <td>70.205</td>\n",
       "      <td>10516.828</td>\n",
       "      <td>1971.268</td>\n",
       "      <td>0.935</td>\n",
       "      <td>1515.464</td>\n",
       "      <td>2.866</td>\n",
       "      <td>1.047</td>\n",
       "      <td>0.613</td>\n",
       "      <td>472.980</td>\n",
       "      <td>46.660</td>\n",
       "      <td>180921.196</td>\n",
       "      <td>0.866</td>\n",
       "      <td>5.837</td>\n",
       "      <td>0.477</td>\n",
       "      <td>0.147</td>\n",
       "      <td>2567.049</td>\n",
       "      <td>2.211</td>\n",
       "      <td>0.521</td>\n",
       "      <td>36.548</td>\n",
       "    </tr>\n",
       "    <tr>\n",
       "      <th>std</th>\n",
       "      <td>421.61</td>\n",
       "      <td>23.051</td>\n",
       "      <td>9981.265</td>\n",
       "      <td>30.203</td>\n",
       "      <td>0.247</td>\n",
       "      <td>525.480</td>\n",
       "      <td>0.816</td>\n",
       "      <td>0.220</td>\n",
       "      <td>0.645</td>\n",
       "      <td>213.805</td>\n",
       "      <td>66.256</td>\n",
       "      <td>79442.503</td>\n",
       "      <td>0.340</td>\n",
       "      <td>0.847</td>\n",
       "      <td>0.500</td>\n",
       "      <td>0.354</td>\n",
       "      <td>821.714</td>\n",
       "      <td>0.785</td>\n",
       "      <td>0.500</td>\n",
       "      <td>30.250</td>\n",
       "    </tr>\n",
       "    <tr>\n",
       "      <th>min</th>\n",
       "      <td>1.00</td>\n",
       "      <td>21.000</td>\n",
       "      <td>1300.000</td>\n",
       "      <td>1872.000</td>\n",
       "      <td>0.000</td>\n",
       "      <td>334.000</td>\n",
       "      <td>0.000</td>\n",
       "      <td>0.000</td>\n",
       "      <td>0.000</td>\n",
       "      <td>0.000</td>\n",
       "      <td>0.000</td>\n",
       "      <td>34900.000</td>\n",
       "      <td>0.000</td>\n",
       "      <td>1.000</td>\n",
       "      <td>0.000</td>\n",
       "      <td>0.000</td>\n",
       "      <td>334.000</td>\n",
       "      <td>1.000</td>\n",
       "      <td>0.000</td>\n",
       "      <td>0.000</td>\n",
       "    </tr>\n",
       "    <tr>\n",
       "      <th>25%</th>\n",
       "      <td>365.75</td>\n",
       "      <td>60.000</td>\n",
       "      <td>7553.500</td>\n",
       "      <td>1954.000</td>\n",
       "      <td>1.000</td>\n",
       "      <td>1129.500</td>\n",
       "      <td>2.000</td>\n",
       "      <td>1.000</td>\n",
       "      <td>0.000</td>\n",
       "      <td>334.500</td>\n",
       "      <td>0.000</td>\n",
       "      <td>129975.000</td>\n",
       "      <td>1.000</td>\n",
       "      <td>5.500</td>\n",
       "      <td>0.000</td>\n",
       "      <td>0.000</td>\n",
       "      <td>2009.500</td>\n",
       "      <td>2.000</td>\n",
       "      <td>0.000</td>\n",
       "      <td>8.000</td>\n",
       "    </tr>\n",
       "    <tr>\n",
       "      <th>50%</th>\n",
       "      <td>730.50</td>\n",
       "      <td>69.500</td>\n",
       "      <td>9478.500</td>\n",
       "      <td>1973.000</td>\n",
       "      <td>1.000</td>\n",
       "      <td>1464.000</td>\n",
       "      <td>3.000</td>\n",
       "      <td>1.000</td>\n",
       "      <td>1.000</td>\n",
       "      <td>480.000</td>\n",
       "      <td>25.000</td>\n",
       "      <td>163000.000</td>\n",
       "      <td>1.000</td>\n",
       "      <td>6.000</td>\n",
       "      <td>0.000</td>\n",
       "      <td>0.000</td>\n",
       "      <td>2474.000</td>\n",
       "      <td>2.000</td>\n",
       "      <td>1.000</td>\n",
       "      <td>35.000</td>\n",
       "    </tr>\n",
       "    <tr>\n",
       "      <th>75%</th>\n",
       "      <td>1095.25</td>\n",
       "      <td>80.000</td>\n",
       "      <td>11601.500</td>\n",
       "      <td>2000.000</td>\n",
       "      <td>1.000</td>\n",
       "      <td>1776.750</td>\n",
       "      <td>3.000</td>\n",
       "      <td>1.000</td>\n",
       "      <td>1.000</td>\n",
       "      <td>576.000</td>\n",
       "      <td>68.000</td>\n",
       "      <td>214000.000</td>\n",
       "      <td>1.000</td>\n",
       "      <td>6.500</td>\n",
       "      <td>1.000</td>\n",
       "      <td>0.000</td>\n",
       "      <td>3004.000</td>\n",
       "      <td>2.500</td>\n",
       "      <td>1.000</td>\n",
       "      <td>54.000</td>\n",
       "    </tr>\n",
       "    <tr>\n",
       "      <th>max</th>\n",
       "      <td>1460.00</td>\n",
       "      <td>313.000</td>\n",
       "      <td>215245.000</td>\n",
       "      <td>2010.000</td>\n",
       "      <td>1.000</td>\n",
       "      <td>5642.000</td>\n",
       "      <td>8.000</td>\n",
       "      <td>3.000</td>\n",
       "      <td>3.000</td>\n",
       "      <td>1418.000</td>\n",
       "      <td>547.000</td>\n",
       "      <td>755000.000</td>\n",
       "      <td>1.000</td>\n",
       "      <td>9.500</td>\n",
       "      <td>1.000</td>\n",
       "      <td>1.000</td>\n",
       "      <td>11752.000</td>\n",
       "      <td>6.000</td>\n",
       "      <td>1.000</td>\n",
       "      <td>136.000</td>\n",
       "    </tr>\n",
       "  </tbody>\n",
       "</table>\n",
       "</div>"
      ],
      "text/plain": [
       "            Id  LotFrontage     LotArea  YearBuilt  CentralAir  GrLivArea  \\\n",
       "count  1460.00     1460.000    1460.000   1460.000    1460.000   1460.000   \n",
       "mean    730.50       70.205   10516.828   1971.268       0.935   1515.464   \n",
       "std     421.61       23.051    9981.265     30.203       0.247    525.480   \n",
       "min       1.00       21.000    1300.000   1872.000       0.000    334.000   \n",
       "25%     365.75       60.000    7553.500   1954.000       1.000   1129.500   \n",
       "50%     730.50       69.500    9478.500   1973.000       1.000   1464.000   \n",
       "75%    1095.25       80.000   11601.500   2000.000       1.000   1776.750   \n",
       "max    1460.00      313.000  215245.000   2010.000       1.000   5642.000   \n",
       "\n",
       "       BedroomAbvGr  KitchenAbvGr  Fireplaces  GarageArea  OpenPorchSF  \\\n",
       "count      1460.000      1460.000    1460.000    1460.000     1460.000   \n",
       "mean          2.866         1.047       0.613     472.980       46.660   \n",
       "std           0.816         0.220       0.645     213.805       66.256   \n",
       "min           0.000         0.000       0.000       0.000        0.000   \n",
       "25%           2.000         1.000       0.000     334.500        0.000   \n",
       "50%           3.000         1.000       1.000     480.000       25.000   \n",
       "75%           3.000         1.000       1.000     576.000       68.000   \n",
       "max           8.000         3.000       3.000    1418.000      547.000   \n",
       "\n",
       "        SalePrice  Condition  Mean_rank  YearRemod  Exterior    TotalSF  \\\n",
       "count    1460.000   1460.000   1460.000   1460.000  1460.000   1460.000   \n",
       "mean   180921.196      0.866      5.837      0.477     0.147   2567.049   \n",
       "std     79442.503      0.340      0.847      0.500     0.354    821.714   \n",
       "min     34900.000      0.000      1.000      0.000     0.000    334.000   \n",
       "25%    129975.000      1.000      5.500      0.000     0.000   2009.500   \n",
       "50%    163000.000      1.000      6.000      0.000     0.000   2474.000   \n",
       "75%    214000.000      1.000      6.500      1.000     0.000   3004.000   \n",
       "max    755000.000      1.000      9.500      1.000     1.000  11752.000   \n",
       "\n",
       "       TotalBath    WoodYN       Age  \n",
       "count   1460.000  1460.000  1460.000  \n",
       "mean       2.211     0.521    36.548  \n",
       "std        0.785     0.500    30.250  \n",
       "min        1.000     0.000     0.000  \n",
       "25%        2.000     0.000     8.000  \n",
       "50%        2.000     1.000    35.000  \n",
       "75%        2.500     1.000    54.000  \n",
       "max        6.000     1.000   136.000  "
      ]
     },
     "execution_count": 3,
     "metadata": {},
     "output_type": "execute_result"
    }
   ],
   "source": [
    "df.describe().round(3)"
   ]
  },
  {
   "cell_type": "code",
   "execution_count": 5,
   "id": "53c4c89b",
   "metadata": {},
   "outputs": [
    {
     "data": {
      "text/plain": [
       "<AxesSubplot: >"
      ]
     },
     "execution_count": 5,
     "metadata": {},
     "output_type": "execute_result"
    },
    {
     "data": {
      "image/png": "[encoded data removed]",
      "text/plain": [
       "<Figure size 640x480 with 2 Axes>"
      ]
     },
     "metadata": {},
     "output_type": "display_data"
    }
   ],
   "source": [
    "corr_df = df.corr()\n",
    "sns.heatmap(corr_df)"
   ]
  },
  {
   "cell_type": "code",
   "execution_count": 6,
   "id": "781dd2df",
   "metadata": {},
   "outputs": [
    {
     "data": {
      "text/plain": [
       "SalePrice       1.000000\n",
       "TotalSF         0.782260\n",
       "GrLivArea       0.708624\n",
       "TotalBath       0.631731\n",
       "GarageArea      0.623431\n",
       "Mean_rank       0.594786\n",
       "YearBuilt       0.522897\n",
       "Fireplaces      0.466929\n",
       "OpenPorchSF     0.315856\n",
       "LotFrontage     0.310673\n",
       "LotArea         0.263843\n",
       "CentralAir      0.251328\n",
       "BedroomAbvGr    0.168213\n",
       "Condition       0.113247\n",
       "Exterior        0.009936\n",
       "Id             -0.021917\n",
       "YearRemod      -0.021933\n",
       "KitchenAbvGr   -0.135907\n",
       "WoodYN         -0.297662\n",
       "Age            -0.523350\n",
       "Name: SalePrice, dtype: float64"
      ]
     },
     "execution_count": 6,
     "metadata": {},
     "output_type": "execute_result"
    }
   ],
   "source": [
    "corr_df.SalePrice.sort_values(ascending = False)"
   ]
  },
  {
   "cell_type": "code",
   "execution_count": 56,
   "id": "d6b55055",
   "metadata": {},
   "outputs": [],
   "source": [
    "def split_data(df, df_test, atributos):\n",
    "    X = df[atributos]\n",
    "    y = df.SalePrice\n",
    "    X_train, X_test, y_train, y_test = train_test_split(X, y, test_size=0.3, random_state=42)\n",
    "    \n",
    "    scaler = StandardScaler()\n",
    "    X_train = scaler.fit_transform(X_train)\n",
    "    X_test = scaler.transform(X_test)\n",
    "    \n",
    "    \n",
    "    X_pred = test[atributos]\n",
    "    X_pred = scaler.fit_transform(X_pred)\n",
    "    \n",
    "    return X_train, X_test, y_train, y_test, X_pred"
   ]
  },
  {
   "cell_type": "code",
   "execution_count": 46,
   "id": "8f4f44ec",
   "metadata": {},
   "outputs": [],
   "source": [
    "def ret_df(pred, nombre):\n",
    "    df_reg = pd.DataFrame()\n",
    "    df_reg['Id'] = test.Id\n",
    "    df_reg['SalePrice'] = pd.Series(pred)\n",
    "    df_reg.set_index('Id', inplace = True)\n",
    "    df_reg.to_csv(\"D:/DatosD/Ml/Supervizado/Kaggle/House_price/Resultados/\" + str(nombre) + \".csv\")"
   ]
  },
  {
   "cell_type": "code",
   "execution_count": 37,
   "id": "320c18ae",
   "metadata": {},
   "outputs": [],
   "source": [
    "atributos = ['TotalSF', 'GrLivArea', 'TotalBath', 'GarageArea', 'Mean_rank', 'Age']\n",
    "X_train, X_test, y_train, y_test, X_pred = split_data(df, test, atributos)"
   ]
  },
  {
   "cell_type": "markdown",
   "id": "ea0ff20a",
   "metadata": {},
   "source": [
    "## Regresion multiple"
   ]
  },
  {
   "cell_type": "markdown",
   "id": "2f84ae53",
   "metadata": {},
   "source": [
    "Atributos = 'TotalSF', 'GrLivArea', 'TotalBath', 'GarageArea', 'Mean_rank', 'Age'"
   ]
  },
  {
   "cell_type": "code",
   "execution_count": 39,
   "id": "c97f0484",
   "metadata": {},
   "outputs": [
    {
     "data": {
      "text/html": [
       "<style>#sk-container-id-2 {color: black;background-color: white;}#sk-container-id-2 pre{padding: 0;}#sk-container-id-2 div.sk-toggleable {background-color: white;}#sk-container-id-2 label.sk-toggleable__label {cursor: pointer;display: block;width: 100%;margin-bottom: 0;padding: 0.3em;box-sizing: border-box;text-align: center;}#sk-container-id-2 label.sk-toggleable__label-arrow:before {content: \"▸\";float: left;margin-right: 0.25em;color: #696969;}#sk-container-id-2 label.sk-toggleable__label-arrow:hover:before {color: black;}#sk-container-id-2 div.sk-estimator:hover label.sk-toggleable__label-arrow:before {color: black;}#sk-container-id-2 div.sk-toggleable__content {max-height: 0;max-width: 0;overflow: hidden;text-align: left;background-color: #f0f8ff;}#sk-container-id-2 div.sk-toggleable__content pre {margin: 0.2em;color: black;border-radius: 0.25em;background-color: #f0f8ff;}#sk-container-id-2 input.sk-toggleable__control:checked~div.sk-toggleable__content {max-height: 200px;max-width: 100%;overflow: auto;}#sk-container-id-2 input.sk-toggleable__control:checked~label.sk-toggleable__label-arrow:before {content: \"▾\";}#sk-container-id-2 div.sk-estimator input.sk-toggleable__control:checked~label.sk-toggleable__label {background-color: #d4ebff;}#sk-container-id-2 div.sk-label input.sk-toggleable__control:checked~label.sk-toggleable__label {background-color: #d4ebff;}#sk-container-id-2 input.sk-hidden--visually {border: 0;clip: rect(1px 1px 1px 1px);clip: rect(1px, 1px, 1px, 1px);height: 1px;margin: -1px;overflow: hidden;padding: 0;position: absolute;width: 1px;}#sk-container-id-2 div.sk-estimator {font-family: monospace;background-color: #f0f8ff;border: 1px dotted black;border-radius: 0.25em;box-sizing: border-box;margin-bottom: 0.5em;}#sk-container-id-2 div.sk-estimator:hover {background-color: #d4ebff;}#sk-container-id-2 div.sk-parallel-item::after {content: \"\";width: 100%;border-bottom: 1px solid gray;flex-grow: 1;}#sk-container-id-2 div.sk-label:hover label.sk-toggleable__label {background-color: #d4ebff;}#sk-container-id-2 div.sk-serial::before {content: \"\";position: absolute;border-left: 1px solid gray;box-sizing: border-box;top: 0;bottom: 0;left: 50%;z-index: 0;}#sk-container-id-2 div.sk-serial {display: flex;flex-direction: column;align-items: center;background-color: white;padding-right: 0.2em;padding-left: 0.2em;position: relative;}#sk-container-id-2 div.sk-item {position: relative;z-index: 1;}#sk-container-id-2 div.sk-parallel {display: flex;align-items: stretch;justify-content: center;background-color: white;position: relative;}#sk-container-id-2 div.sk-item::before, #sk-container-id-2 div.sk-parallel-item::before {content: \"\";position: absolute;border-left: 1px solid gray;box-sizing: border-box;top: 0;bottom: 0;left: 50%;z-index: -1;}#sk-container-id-2 div.sk-parallel-item {display: flex;flex-direction: column;z-index: 1;position: relative;background-color: white;}#sk-container-id-2 div.sk-parallel-item:first-child::after {align-self: flex-end;width: 50%;}#sk-container-id-2 div.sk-parallel-item:last-child::after {align-self: flex-start;width: 50%;}#sk-container-id-2 div.sk-parallel-item:only-child::after {width: 0;}#sk-container-id-2 div.sk-dashed-wrapped {border: 1px dashed gray;margin: 0 0.4em 0.5em 0.4em;box-sizing: border-box;padding-bottom: 0.4em;background-color: white;}#sk-container-id-2 div.sk-label label {font-family: monospace;font-weight: bold;display: inline-block;line-height: 1.2em;}#sk-container-id-2 div.sk-label-container {text-align: center;}#sk-container-id-2 div.sk-container {/* jupyter's `normalize.less` sets `[hidden] { display: none; }` but bootstrap.min.css set `[hidden] { display: none !important; }` so we also need the `!important` here to be able to override the default hidden behavior on the sphinx rendered scikit-learn.org. See: https://github.com/scikit-learn/scikit-learn/issues/21755 */display: inline-block !important;position: relative;}#sk-container-id-2 div.sk-text-repr-fallback {display: none;}</style><div id=\"sk-container-id-2\" class=\"sk-top-container\"><div class=\"sk-text-repr-fallback\"><pre>LinearRegression()</pre><b>In a Jupyter environment, please rerun this cell to show the HTML representation or trust the notebook. <br />On GitHub, the HTML representation is unable to render, please try loading this page with nbviewer.org.</b></div><div class=\"sk-container\" hidden><div class=\"sk-item\"><div class=\"sk-estimator sk-toggleable\"><input class=\"sk-toggleable__control sk-hidden--visually\" id=\"sk-estimator-id-2\" type=\"checkbox\" checked><label for=\"sk-estimator-id-2\" class=\"sk-toggleable__label sk-toggleable__label-arrow\">LinearRegression</label><div class=\"sk-toggleable__content\"><pre>LinearRegression()</pre></div></div></div></div></div>"
      ],
      "text/plain": [
       "LinearRegression()"
      ]
     },
     "execution_count": 39,
     "metadata": {},
     "output_type": "execute_result"
    }
   ],
   "source": [
    "model = LinearRegression()\n",
    "model.fit(X_train, y_train)"
   ]
  },
  {
   "cell_type": "code",
   "execution_count": 40,
   "id": "e5fa8596",
   "metadata": {},
   "outputs": [],
   "source": [
    "y_pred = model.predict(X_test)"
   ]
  },
  {
   "cell_type": "code",
   "execution_count": 41,
   "id": "bdd8b6ee",
   "metadata": {},
   "outputs": [
    {
     "data": {
      "text/plain": [
       "0.8090038169980238"
      ]
     },
     "execution_count": 41,
     "metadata": {},
     "output_type": "execute_result"
    }
   ],
   "source": [
    "model.score(X_test, y_test)"
   ]
  },
  {
   "cell_type": "code",
   "execution_count": 25,
   "id": "11d086f0",
   "metadata": {},
   "outputs": [],
   "source": [
    "reg_mult = model.predict(X_pred)"
   ]
  },
  {
   "cell_type": "code",
   "execution_count": 47,
   "id": "b620ff27",
   "metadata": {},
   "outputs": [],
   "source": [
    "ret_df(reg_mult, \"A_reg_mult\")"
   ]
  },
  {
   "cell_type": "markdown",
   "id": "84690286",
   "metadata": {},
   "source": [
    "### Reg con todos los atributos"
   ]
  },
  {
   "cell_type": "code",
   "execution_count": 58,
   "id": "bfc27161",
   "metadata": {},
   "outputs": [],
   "source": [
    "atrib = ['LotFrontage', 'LotArea', 'YearBuilt', 'CentralAir', 'GrLivArea',\n",
    "       'BedroomAbvGr', 'KitchenAbvGr', 'Fireplaces', 'GarageArea',\n",
    "       'OpenPorchSF', 'Condition', 'Mean_rank', 'YearRemod',\n",
    "       'Exterior', 'TotalSF', 'TotalBath', 'WoodYN', 'Age']\n",
    "X_train, X_test, y_train, y_test, X_pred = split_data(df, test, atrib)"
   ]
  },
  {
   "cell_type": "code",
   "execution_count": 59,
   "id": "f7b57a89",
   "metadata": {},
   "outputs": [
    {
     "data": {
      "text/html": [
       "<style>#sk-container-id-3 {color: black;background-color: white;}#sk-container-id-3 pre{padding: 0;}#sk-container-id-3 div.sk-toggleable {background-color: white;}#sk-container-id-3 label.sk-toggleable__label {cursor: pointer;display: block;width: 100%;margin-bottom: 0;padding: 0.3em;box-sizing: border-box;text-align: center;}#sk-container-id-3 label.sk-toggleable__label-arrow:before {content: \"▸\";float: left;margin-right: 0.25em;color: #696969;}#sk-container-id-3 label.sk-toggleable__label-arrow:hover:before {color: black;}#sk-container-id-3 div.sk-estimator:hover label.sk-toggleable__label-arrow:before {color: black;}#sk-container-id-3 div.sk-toggleable__content {max-height: 0;max-width: 0;overflow: hidden;text-align: left;background-color: #f0f8ff;}#sk-container-id-3 div.sk-toggleable__content pre {margin: 0.2em;color: black;border-radius: 0.25em;background-color: #f0f8ff;}#sk-container-id-3 input.sk-toggleable__control:checked~div.sk-toggleable__content {max-height: 200px;max-width: 100%;overflow: auto;}#sk-container-id-3 input.sk-toggleable__control:checked~label.sk-toggleable__label-arrow:before {content: \"▾\";}#sk-container-id-3 div.sk-estimator input.sk-toggleable__control:checked~label.sk-toggleable__label {background-color: #d4ebff;}#sk-container-id-3 div.sk-label input.sk-toggleable__control:checked~label.sk-toggleable__label {background-color: #d4ebff;}#sk-container-id-3 input.sk-hidden--visually {border: 0;clip: rect(1px 1px 1px 1px);clip: rect(1px, 1px, 1px, 1px);height: 1px;margin: -1px;overflow: hidden;padding: 0;position: absolute;width: 1px;}#sk-container-id-3 div.sk-estimator {font-family: monospace;background-color: #f0f8ff;border: 1px dotted black;border-radius: 0.25em;box-sizing: border-box;margin-bottom: 0.5em;}#sk-container-id-3 div.sk-estimator:hover {background-color: #d4ebff;}#sk-container-id-3 div.sk-parallel-item::after {content: \"\";width: 100%;border-bottom: 1px solid gray;flex-grow: 1;}#sk-container-id-3 div.sk-label:hover label.sk-toggleable__label {background-color: #d4ebff;}#sk-container-id-3 div.sk-serial::before {content: \"\";position: absolute;border-left: 1px solid gray;box-sizing: border-box;top: 0;bottom: 0;left: 50%;z-index: 0;}#sk-container-id-3 div.sk-serial {display: flex;flex-direction: column;align-items: center;background-color: white;padding-right: 0.2em;padding-left: 0.2em;position: relative;}#sk-container-id-3 div.sk-item {position: relative;z-index: 1;}#sk-container-id-3 div.sk-parallel {display: flex;align-items: stretch;justify-content: center;background-color: white;position: relative;}#sk-container-id-3 div.sk-item::before, #sk-container-id-3 div.sk-parallel-item::before {content: \"\";position: absolute;border-left: 1px solid gray;box-sizing: border-box;top: 0;bottom: 0;left: 50%;z-index: -1;}#sk-container-id-3 div.sk-parallel-item {display: flex;flex-direction: column;z-index: 1;position: relative;background-color: white;}#sk-container-id-3 div.sk-parallel-item:first-child::after {align-self: flex-end;width: 50%;}#sk-container-id-3 div.sk-parallel-item:last-child::after {align-self: flex-start;width: 50%;}#sk-container-id-3 div.sk-parallel-item:only-child::after {width: 0;}#sk-container-id-3 div.sk-dashed-wrapped {border: 1px dashed gray;margin: 0 0.4em 0.5em 0.4em;box-sizing: border-box;padding-bottom: 0.4em;background-color: white;}#sk-container-id-3 div.sk-label label {font-family: monospace;font-weight: bold;display: inline-block;line-height: 1.2em;}#sk-container-id-3 div.sk-label-container {text-align: center;}#sk-container-id-3 div.sk-container {/* jupyter's `normalize.less` sets `[hidden] { display: none; }` but bootstrap.min.css set `[hidden] { display: none !important; }` so we also need the `!important` here to be able to override the default hidden behavior on the sphinx rendered scikit-learn.org. See: https://github.com/scikit-learn/scikit-learn/issues/21755 */display: inline-block !important;position: relative;}#sk-container-id-3 div.sk-text-repr-fallback {display: none;}</style><div id=\"sk-container-id-3\" class=\"sk-top-container\"><div class=\"sk-text-repr-fallback\"><pre>LinearRegression()</pre><b>In a Jupyter environment, please rerun this cell to show the HTML representation or trust the notebook. <br />On GitHub, the HTML representation is unable to render, please try loading this page with nbviewer.org.</b></div><div class=\"sk-container\" hidden><div class=\"sk-item\"><div class=\"sk-estimator sk-toggleable\"><input class=\"sk-toggleable__control sk-hidden--visually\" id=\"sk-estimator-id-3\" type=\"checkbox\" checked><label for=\"sk-estimator-id-3\" class=\"sk-toggleable__label sk-toggleable__label-arrow\">LinearRegression</label><div class=\"sk-toggleable__content\"><pre>LinearRegression()</pre></div></div></div></div></div>"
      ],
      "text/plain": [
       "LinearRegression()"
      ]
     },
     "execution_count": 59,
     "metadata": {},
     "output_type": "execute_result"
    }
   ],
   "source": [
    "model.fit(X_train, y_train)"
   ]
  },
  {
   "cell_type": "code",
   "execution_count": 60,
   "id": "5f1c8a02",
   "metadata": {},
   "outputs": [
    {
     "data": {
      "text/plain": [
       "0.8219150807228407"
      ]
     },
     "execution_count": 60,
     "metadata": {},
     "output_type": "execute_result"
    }
   ],
   "source": [
    "y_pred = model.predict(X_test)\n",
    "model.score(X_test, y_test)"
   ]
  }
 ],
 "metadata": {
  "kernelspec": {
   "display_name": "jc",
   "language": "python",
   "name": "jc"
  },
  "language_info": {
   "codemirror_mode": {
    "name": "ipython",
    "version": 3
   },
   "file_extension": ".py",
   "mimetype": "text/x-python",
   "name": "python",
   "nbconvert_exporter": "python",
   "pygments_lexer": "ipython3",
   "version": "3.10.9"
  }
 },
 "nbformat": 4,
 "nbformat_minor": 5
}
