{
 "cells": [
  {
   "cell_type": "code",
   "execution_count": 1,
   "id": "957c48cd",
   "metadata": {},
   "outputs": [],
   "source": [
    "import pandas as pd\n",
    "import matplotlib.pyplot as plt\n",
    "import numpy as np\n",
    "import random\n",
    "from sklearn.model_selection import train_test_split"
   ]
  },
  {
   "cell_type": "code",
   "execution_count": 2,
   "id": "352c1bd5",
   "metadata": {},
   "outputs": [],
   "source": [
    "train = pd.read_csv('Train_exp.csv')\n",
    "test = pd.read_csv('test_exp.csv')"
   ]
  },
  {
   "cell_type": "code",
   "execution_count": 3,
   "id": "d50adf91",
   "metadata": {},
   "outputs": [
    {
     "data": {
      "text/plain": [
       "Index(['Unnamed: 0', 'SalePrice', 'LotArea', 'OverallQual', 'YearBuilt',\n",
       "       'GrLivArea', 'Fireplaces', 'GarageArea', 'Condition'],\n",
       "      dtype='object')"
      ]
     },
     "execution_count": 3,
     "metadata": {},
     "output_type": "execute_result"
    }
   ],
   "source": [
    "train.columns"
   ]
  },
  {
   "cell_type": "code",
   "execution_count": 4,
   "id": "9c8d5aec",
   "metadata": {},
   "outputs": [],
   "source": [
    "def separar_datos(train, test, atributos):\n",
    "    X = train[atributos]\n",
    "    X_pred = test[atributos]\n",
    "    y = train['SalePrice']\n",
    "    X_train, X_test, y_train, y_test = train_test_split(X, y, test_size=0.3, random_state=42)\n",
    "    return X_train, X_test, y_train, y_test, X_pred"
   ]
  },
  {
   "cell_type": "code",
   "execution_count": 5,
   "id": "4bb8eef8",
   "metadata": {},
   "outputs": [],
   "source": [
    "atributos1 = ['LotArea', 'OverallQual', 'YearBuilt', 'GrLivArea', 'Fireplaces', 'GarageArea', 'Condition']\n",
    "atributos2 = ['OverallQual', 'GrLivArea', 'Fireplaces', 'GarageArea', 'Condition']\n",
    "atributos3 = ['LotArea', 'OverallQual', 'YearBuilt', 'GrLivArea', 'Fireplaces', 'GarageArea']\n",
    "atributos4 = ['LotArea', 'OverallQual', 'YearBuilt', 'GrLivArea', 'GarageArea', 'Condition']\n",
    "atributos5 = ['OverallQual', 'YearBuilt', 'GrLivArea', 'GarageArea', 'Condition']\n",
    "atributos6 = ['LotArea', 'OverallQual', 'GrLivArea', 'GarageArea', 'Condition']\n",
    "\n",
    "#X_train, X_test, y_train, y_test, X_pred = separar_datos(train, test, atributos)"
   ]
  },
  {
   "cell_type": "code",
   "execution_count": 6,
   "id": "b0d33464",
   "metadata": {},
   "outputs": [],
   "source": [
    "atributos_lista = [atributos1, atributos2, atributos3, atributos4, atributos5, atributos6]"
   ]
  },
  {
   "cell_type": "markdown",
   "id": "d4ffc446",
   "metadata": {},
   "source": [
    "## Regresion multpile"
   ]
  },
  {
   "cell_type": "code",
   "execution_count": 7,
   "id": "0a4a3377",
   "metadata": {},
   "outputs": [],
   "source": [
    "from sklearn.linear_model import LinearRegression"
   ]
  },
  {
   "cell_type": "code",
   "execution_count": 8,
   "id": "2e3a0340",
   "metadata": {},
   "outputs": [],
   "source": [
    "reg_m = LinearRegression()"
   ]
  },
  {
   "cell_type": "code",
   "execution_count": 9,
   "id": "e08b9fd5",
   "metadata": {},
   "outputs": [],
   "source": [
    "diccionario_rdos = {}"
   ]
  },
  {
   "cell_type": "code",
   "execution_count": 27,
   "id": "f110ac99",
   "metadata": {},
   "outputs": [],
   "source": [
    "cont = 0\n",
    "for i in atributos_lista:\n",
    "    cont += 1\n",
    "    X_train, X_test, y_train, y_test, X_pred = separar_datos(train, test, i)\n",
    "    reg_m.fit(X_train, y_train)\n",
    "    y_pred = reg_m.predict(X_test)\n",
    "    r2 = reg_m.score(X_test, y_test)\n",
    "    diccionario_rdos['Atributo' + str(cont)] = round(r2, 4)"
   ]
  },
  {
   "cell_type": "code",
   "execution_count": 11,
   "id": "9a7ca18d",
   "metadata": {},
   "outputs": [
    {
     "data": {
      "text/plain": [
       "{'Atributo1': 0.7867,\n",
       " 'Atributo2': 0.7761,\n",
       " 'Atributo3': 0.7852,\n",
       " 'Atributo4': 0.7834,\n",
       " 'Atributo5': 0.7775,\n",
       " 'Atributo6': 0.7759}"
      ]
     },
     "execution_count": 11,
     "metadata": {},
     "output_type": "execute_result"
    }
   ],
   "source": [
    "diccionario_rdos"
   ]
  },
  {
   "cell_type": "code",
   "execution_count": 12,
   "id": "5d11eb0c",
   "metadata": {},
   "outputs": [],
   "source": [
    "X_train, X_test, y_train, y_test, X_pred = separar_datos(train, test, atributos1)\n",
    "reg_m.fit(X_train, y_train)\n",
    "y_pred = reg_m.predict(X_pred)"
   ]
  },
  {
   "cell_type": "code",
   "execution_count": 13,
   "id": "0e8296e5",
   "metadata": {},
   "outputs": [
    {
     "data": {
      "text/html": [
       "<div>\n",
       "<style scoped>\n",
       "    .dataframe tbody tr th:only-of-type {\n",
       "        vertical-align: middle;\n",
       "    }\n",
       "\n",
       "    .dataframe tbody tr th {\n",
       "        vertical-align: top;\n",
       "    }\n",
       "\n",
       "    .dataframe thead th {\n",
       "        text-align: right;\n",
       "    }\n",
       "</style>\n",
       "<table border=\"1\" class=\"dataframe\">\n",
       "  <thead>\n",
       "    <tr style=\"text-align: right;\">\n",
       "      <th></th>\n",
       "      <th>LotArea</th>\n",
       "      <th>OverallQual</th>\n",
       "      <th>YearBuilt</th>\n",
       "      <th>GrLivArea</th>\n",
       "      <th>Fireplaces</th>\n",
       "      <th>GarageArea</th>\n",
       "      <th>Condition</th>\n",
       "    </tr>\n",
       "  </thead>\n",
       "  <tbody>\n",
       "    <tr>\n",
       "      <th>0</th>\n",
       "      <td>11622</td>\n",
       "      <td>5</td>\n",
       "      <td>1961</td>\n",
       "      <td>896</td>\n",
       "      <td>0</td>\n",
       "      <td>730.0</td>\n",
       "      <td>0</td>\n",
       "    </tr>\n",
       "    <tr>\n",
       "      <th>1</th>\n",
       "      <td>14267</td>\n",
       "      <td>6</td>\n",
       "      <td>1958</td>\n",
       "      <td>1329</td>\n",
       "      <td>0</td>\n",
       "      <td>312.0</td>\n",
       "      <td>1</td>\n",
       "    </tr>\n",
       "    <tr>\n",
       "      <th>2</th>\n",
       "      <td>13830</td>\n",
       "      <td>5</td>\n",
       "      <td>1997</td>\n",
       "      <td>1629</td>\n",
       "      <td>1</td>\n",
       "      <td>482.0</td>\n",
       "      <td>1</td>\n",
       "    </tr>\n",
       "    <tr>\n",
       "      <th>3</th>\n",
       "      <td>9978</td>\n",
       "      <td>6</td>\n",
       "      <td>1998</td>\n",
       "      <td>1604</td>\n",
       "      <td>1</td>\n",
       "      <td>470.0</td>\n",
       "      <td>1</td>\n",
       "    </tr>\n",
       "    <tr>\n",
       "      <th>4</th>\n",
       "      <td>5005</td>\n",
       "      <td>8</td>\n",
       "      <td>1992</td>\n",
       "      <td>1280</td>\n",
       "      <td>0</td>\n",
       "      <td>506.0</td>\n",
       "      <td>1</td>\n",
       "    </tr>\n",
       "    <tr>\n",
       "      <th>...</th>\n",
       "      <td>...</td>\n",
       "      <td>...</td>\n",
       "      <td>...</td>\n",
       "      <td>...</td>\n",
       "      <td>...</td>\n",
       "      <td>...</td>\n",
       "      <td>...</td>\n",
       "    </tr>\n",
       "    <tr>\n",
       "      <th>1454</th>\n",
       "      <td>1936</td>\n",
       "      <td>4</td>\n",
       "      <td>1970</td>\n",
       "      <td>1092</td>\n",
       "      <td>0</td>\n",
       "      <td>0.0</td>\n",
       "      <td>1</td>\n",
       "    </tr>\n",
       "    <tr>\n",
       "      <th>1455</th>\n",
       "      <td>1894</td>\n",
       "      <td>4</td>\n",
       "      <td>1970</td>\n",
       "      <td>1092</td>\n",
       "      <td>0</td>\n",
       "      <td>286.0</td>\n",
       "      <td>1</td>\n",
       "    </tr>\n",
       "    <tr>\n",
       "      <th>1456</th>\n",
       "      <td>20000</td>\n",
       "      <td>5</td>\n",
       "      <td>1960</td>\n",
       "      <td>1224</td>\n",
       "      <td>1</td>\n",
       "      <td>576.0</td>\n",
       "      <td>1</td>\n",
       "    </tr>\n",
       "    <tr>\n",
       "      <th>1457</th>\n",
       "      <td>10441</td>\n",
       "      <td>5</td>\n",
       "      <td>1992</td>\n",
       "      <td>970</td>\n",
       "      <td>0</td>\n",
       "      <td>0.0</td>\n",
       "      <td>1</td>\n",
       "    </tr>\n",
       "    <tr>\n",
       "      <th>1458</th>\n",
       "      <td>9627</td>\n",
       "      <td>7</td>\n",
       "      <td>1993</td>\n",
       "      <td>2000</td>\n",
       "      <td>1</td>\n",
       "      <td>650.0</td>\n",
       "      <td>1</td>\n",
       "    </tr>\n",
       "  </tbody>\n",
       "</table>\n",
       "<p>1459 rows × 7 columns</p>\n",
       "</div>"
      ],
      "text/plain": [
       "      LotArea  OverallQual  YearBuilt  GrLivArea  Fireplaces  GarageArea  \\\n",
       "0       11622            5       1961        896           0       730.0   \n",
       "1       14267            6       1958       1329           0       312.0   \n",
       "2       13830            5       1997       1629           1       482.0   \n",
       "3        9978            6       1998       1604           1       470.0   \n",
       "4        5005            8       1992       1280           0       506.0   \n",
       "...       ...          ...        ...        ...         ...         ...   \n",
       "1454     1936            4       1970       1092           0         0.0   \n",
       "1455     1894            4       1970       1092           0       286.0   \n",
       "1456    20000            5       1960       1224           1       576.0   \n",
       "1457    10441            5       1992        970           0         0.0   \n",
       "1458     9627            7       1993       2000           1       650.0   \n",
       "\n",
       "      Condition  \n",
       "0             0  \n",
       "1             1  \n",
       "2             1  \n",
       "3             1  \n",
       "4             1  \n",
       "...         ...  \n",
       "1454          1  \n",
       "1455          1  \n",
       "1456          1  \n",
       "1457          1  \n",
       "1458          1  \n",
       "\n",
       "[1459 rows x 7 columns]"
      ]
     },
     "execution_count": 13,
     "metadata": {},
     "output_type": "execute_result"
    }
   ],
   "source": [
    "X_pred"
   ]
  },
  {
   "cell_type": "code",
   "execution_count": 14,
   "id": "381a4a55",
   "metadata": {},
   "outputs": [
    {
     "data": {
      "text/plain": [
       "array([119982.84609243, 153453.26256369, 179254.67734615, ...,\n",
       "       155727.57763381, 109352.84518429, 244776.47585262])"
      ]
     },
     "execution_count": 14,
     "metadata": {},
     "output_type": "execute_result"
    }
   ],
   "source": [
    "y_pred"
   ]
  },
  {
   "cell_type": "code",
   "execution_count": 19,
   "id": "34c67fc7",
   "metadata": {},
   "outputs": [],
   "source": [
    "def save(y_pred, nombre):\n",
    "    rdo = pd.DataFrame()\n",
    "    rdo['id'] = test.Id\n",
    "    rdo['SalePrice'] = y_pred\n",
    "    rdo.set_index('id', inplace = True)\n",
    "    rdo.to_csv(nombre)"
   ]
  },
  {
   "cell_type": "code",
   "execution_count": 20,
   "id": "caec6676",
   "metadata": {},
   "outputs": [],
   "source": [
    "save(y_pred, 'Regresion_multiple1.csv')"
   ]
  },
  {
   "cell_type": "markdown",
   "id": "5cca797d",
   "metadata": {},
   "source": [
    "## Arbol de decision"
   ]
  },
  {
   "cell_type": "code",
   "execution_count": 28,
   "id": "07e80704",
   "metadata": {},
   "outputs": [],
   "source": [
    "from sklearn.tree import DecisionTreeClassifier\n",
    "from sklearn.metrics import accuracy_score"
   ]
  },
  {
   "cell_type": "code",
   "execution_count": 40,
   "id": "f15b5041",
   "metadata": {},
   "outputs": [],
   "source": [
    "X_train, X_test, y_train, y_test, X_pred = separar_datos(train, test, atributos1)\n",
    "clf = DecisionTreeClassifier(random_state=42)"
   ]
  },
  {
   "cell_type": "code",
   "execution_count": 41,
   "id": "75dc2c4c",
   "metadata": {},
   "outputs": [
    {
     "data": {
      "text/html": [
       "<style>#sk-container-id-5 {color: black;background-color: white;}#sk-container-id-5 pre{padding: 0;}#sk-container-id-5 div.sk-toggleable {background-color: white;}#sk-container-id-5 label.sk-toggleable__label {cursor: pointer;display: block;width: 100%;margin-bottom: 0;padding: 0.3em;box-sizing: border-box;text-align: center;}#sk-container-id-5 label.sk-toggleable__label-arrow:before {content: \"▸\";float: left;margin-right: 0.25em;color: #696969;}#sk-container-id-5 label.sk-toggleable__label-arrow:hover:before {color: black;}#sk-container-id-5 div.sk-estimator:hover label.sk-toggleable__label-arrow:before {color: black;}#sk-container-id-5 div.sk-toggleable__content {max-height: 0;max-width: 0;overflow: hidden;text-align: left;background-color: #f0f8ff;}#sk-container-id-5 div.sk-toggleable__content pre {margin: 0.2em;color: black;border-radius: 0.25em;background-color: #f0f8ff;}#sk-container-id-5 input.sk-toggleable__control:checked~div.sk-toggleable__content {max-height: 200px;max-width: 100%;overflow: auto;}#sk-container-id-5 input.sk-toggleable__control:checked~label.sk-toggleable__label-arrow:before {content: \"▾\";}#sk-container-id-5 div.sk-estimator input.sk-toggleable__control:checked~label.sk-toggleable__label {background-color: #d4ebff;}#sk-container-id-5 div.sk-label input.sk-toggleable__control:checked~label.sk-toggleable__label {background-color: #d4ebff;}#sk-container-id-5 input.sk-hidden--visually {border: 0;clip: rect(1px 1px 1px 1px);clip: rect(1px, 1px, 1px, 1px);height: 1px;margin: -1px;overflow: hidden;padding: 0;position: absolute;width: 1px;}#sk-container-id-5 div.sk-estimator {font-family: monospace;background-color: #f0f8ff;border: 1px dotted black;border-radius: 0.25em;box-sizing: border-box;margin-bottom: 0.5em;}#sk-container-id-5 div.sk-estimator:hover {background-color: #d4ebff;}#sk-container-id-5 div.sk-parallel-item::after {content: \"\";width: 100%;border-bottom: 1px solid gray;flex-grow: 1;}#sk-container-id-5 div.sk-label:hover label.sk-toggleable__label {background-color: #d4ebff;}#sk-container-id-5 div.sk-serial::before {content: \"\";position: absolute;border-left: 1px solid gray;box-sizing: border-box;top: 0;bottom: 0;left: 50%;z-index: 0;}#sk-container-id-5 div.sk-serial {display: flex;flex-direction: column;align-items: center;background-color: white;padding-right: 0.2em;padding-left: 0.2em;position: relative;}#sk-container-id-5 div.sk-item {position: relative;z-index: 1;}#sk-container-id-5 div.sk-parallel {display: flex;align-items: stretch;justify-content: center;background-color: white;position: relative;}#sk-container-id-5 div.sk-item::before, #sk-container-id-5 div.sk-parallel-item::before {content: \"\";position: absolute;border-left: 1px solid gray;box-sizing: border-box;top: 0;bottom: 0;left: 50%;z-index: -1;}#sk-container-id-5 div.sk-parallel-item {display: flex;flex-direction: column;z-index: 1;position: relative;background-color: white;}#sk-container-id-5 div.sk-parallel-item:first-child::after {align-self: flex-end;width: 50%;}#sk-container-id-5 div.sk-parallel-item:last-child::after {align-self: flex-start;width: 50%;}#sk-container-id-5 div.sk-parallel-item:only-child::after {width: 0;}#sk-container-id-5 div.sk-dashed-wrapped {border: 1px dashed gray;margin: 0 0.4em 0.5em 0.4em;box-sizing: border-box;padding-bottom: 0.4em;background-color: white;}#sk-container-id-5 div.sk-label label {font-family: monospace;font-weight: bold;display: inline-block;line-height: 1.2em;}#sk-container-id-5 div.sk-label-container {text-align: center;}#sk-container-id-5 div.sk-container {/* jupyter's `normalize.less` sets `[hidden] { display: none; }` but bootstrap.min.css set `[hidden] { display: none !important; }` so we also need the `!important` here to be able to override the default hidden behavior on the sphinx rendered scikit-learn.org. See: https://github.com/scikit-learn/scikit-learn/issues/21755 */display: inline-block !important;position: relative;}#sk-container-id-5 div.sk-text-repr-fallback {display: none;}</style><div id=\"sk-container-id-5\" class=\"sk-top-container\"><div class=\"sk-text-repr-fallback\"><pre>DecisionTreeClassifier(random_state=42)</pre><b>In a Jupyter environment, please rerun this cell to show the HTML representation or trust the notebook. <br />On GitHub, the HTML representation is unable to render, please try loading this page with nbviewer.org.</b></div><div class=\"sk-container\" hidden><div class=\"sk-item\"><div class=\"sk-estimator sk-toggleable\"><input class=\"sk-toggleable__control sk-hidden--visually\" id=\"sk-estimator-id-5\" type=\"checkbox\" checked><label for=\"sk-estimator-id-5\" class=\"sk-toggleable__label sk-toggleable__label-arrow\">DecisionTreeClassifier</label><div class=\"sk-toggleable__content\"><pre>DecisionTreeClassifier(random_state=42)</pre></div></div></div></div></div>"
      ],
      "text/plain": [
       "DecisionTreeClassifier(random_state=42)"
      ]
     },
     "execution_count": 41,
     "metadata": {},
     "output_type": "execute_result"
    }
   ],
   "source": [
    "clf.fit(X_train, y_train)"
   ]
  },
  {
   "cell_type": "code",
   "execution_count": 42,
   "id": "2414e596",
   "metadata": {},
   "outputs": [
    {
     "data": {
      "text/plain": [
       "0.0091324200913242"
      ]
     },
     "execution_count": 42,
     "metadata": {},
     "output_type": "execute_result"
    }
   ],
   "source": [
    "y_pred = clf.predict(X_test)\n",
    "accuracy_score(y_test, y_pred)"
   ]
  },
  {
   "cell_type": "code",
   "execution_count": 45,
   "id": "556c8436",
   "metadata": {},
   "outputs": [],
   "source": [
    "accuracy_score?"
   ]
  }
 ],
 "metadata": {
  "kernelspec": {
   "display_name": "jc",
   "language": "python",
   "name": "jc"
  },
  "language_info": {
   "codemirror_mode": {
    "name": "ipython",
    "version": 3
   },
   "file_extension": ".py",
   "mimetype": "text/x-python",
   "name": "python",
   "nbconvert_exporter": "python",
   "pygments_lexer": "ipython3",
   "version": "3.10.9"
  }
 },
 "nbformat": 4,
 "nbformat_minor": 5
}
